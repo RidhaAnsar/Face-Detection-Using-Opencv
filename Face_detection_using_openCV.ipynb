{
  "cells": [
    {
      "cell_type": "markdown",
      "metadata": {
        "id": "view-in-github",
        "colab_type": "text"
      },
      "source": [
        "<a href=\"https://colab.research.google.com/github/RidhaAnsar/Face-Detection-Using-Opencv/blob/main/Face_detection_using_openCV.ipynb\" target=\"_parent\"><img src=\"https://colab.research.google.com/assets/colab-badge.svg\" alt=\"Open In Colab\"/></a>"
      ]
    },
    {
      "cell_type": "code",
      "execution_count": null,
      "metadata": {
        "id": "Nu2MdaxrBCvC"
      },
      "outputs": [],
      "source": [
        "import cv2\n",
        "from google.colab.patches import cv2_imshow"
      ]
    },
    {
      "cell_type": "code",
      "execution_count": null,
      "metadata": {
        "id": "w4dFzLT1Bq2i"
      },
      "outputs": [],
      "source": [
        "## Using a pre trained tranformer from openCV\n",
        "\n",
        "face_cascade=cv2.CascadeClassifier('haarcascade_frontalface_default.xml')"
      ]
    },
    {
      "cell_type": "code",
      "execution_count": 34,
      "metadata": {
        "id": "PIqJV9UKCfn8"
      },
      "outputs": [],
      "source": [
        "## Upload the input image\n",
        "\n",
        "img=cv2.imread('/content/pic10.jpg')\n",
        "img2=cv2.imread('/content/pic4.jpeg')"
      ]
    },
    {
      "cell_type": "code",
      "execution_count": 36,
      "metadata": {
        "id": "usX57NS3DZQU"
      },
      "outputs": [],
      "source": [
        "## performing face detection\n",
        "\n",
        "faces=face_cascade.detectMultiScale(img, 1.1, 9) ## detect faces\n",
        "faces2=face_cascade.detectMultiScale(img2, 1.1, 9) ## detect faces\n"
      ]
    },
    {
      "cell_type": "code",
      "execution_count": 37,
      "metadata": {
        "id": "rXEhRTcxDo7E"
      },
      "outputs": [],
      "source": [
        "# iterating through rectangles of detected faces\n",
        "\n",
        "for(x,y,w,h) in faces:\n",
        "  cv2.rectangle(img, (x,y), (x+w, y+h), (255,0,0), 2)\n",
        "\n",
        "for(x,y,w,h) in faces2:\n",
        "  cv2.rectangle(img2, (x,y), (x+w, y+h), (255,0,0), 2)"
      ]
    },
    {
      "cell_type": "code",
      "execution_count": 40,
      "metadata": {
        "colab": {
          "base_uri": "https://localhost:8080/"
        },
        "id": "I3-lSVn-EKo0",
        "outputId": "22b48c3c-4d17-49a2-c8a3-0f19299185c6"
      },
      "outputs": [
        {
          "output_type": "stream",
          "name": "stdout",
          "text": [
            "Photo exported successfully \n"
          ]
        }
      ],
      "source": [
        "## Exporting the result\n",
        "cv2.imwrite(\"face_detected.png\", img)\n",
        "\n",
        "print(\"Photo exported successfully \")"
      ]
    },
    {
      "cell_type": "code",
      "source": [
        "cv2.imwrite(\"face_detected2.png\", img2)\n"
      ],
      "metadata": {
        "colab": {
          "base_uri": "https://localhost:8080/"
        },
        "id": "Ecrf_MVuI0nL",
        "outputId": "26f8b5aa-6c36-4d9a-81b8-dcb96a7fa873"
      },
      "execution_count": 41,
      "outputs": [
        {
          "output_type": "execute_result",
          "data": {
            "text/plain": [
              "True"
            ]
          },
          "metadata": {},
          "execution_count": 41
        }
      ]
    }
  ],
  "metadata": {
    "accelerator": "GPU",
    "colab": {
      "gpuType": "T4",
      "provenance": [],
      "authorship_tag": "ABX9TyPSbb+KomTOt8i9aJ85lqZq",
      "include_colab_link": true
    },
    "kernelspec": {
      "display_name": "Python 3",
      "name": "python3"
    },
    "language_info": {
      "name": "python"
    }
  },
  "nbformat": 4,
  "nbformat_minor": 0
}